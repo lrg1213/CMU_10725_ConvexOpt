{
 "cells": [
  {
   "cell_type": "code",
   "execution_count": 15,
   "metadata": {},
   "outputs": [],
   "source": [
    "import numpy as np\n",
    "from sklearn.datasets import make_classification\n",
    "import time\n",
    "from math import exp\n",
    "from sklearn.model_selection import KFold\n",
    "# X_train, y_train = make_classification(n_samples=10000)\n",
    "# X_test, y_test = make_classification(n_samples=1000)\n",
    "X, y = make_classification(n_samples=10000)\n"
   ]
  },
  {
   "cell_type": "code",
   "execution_count": 41,
   "metadata": {},
   "outputs": [],
   "source": [
    "def predict(row, coefficients):\n",
    "    yhat = coefficients[0]\n",
    "    for i in range(len(row)-1):\n",
    "        yhat += coefficients[i + 1] * row[i]\n",
    "    return 1.0 / (1.0 + exp(-yhat))\n",
    "\n",
    "def bgd(X_train, y_train, l_rate, n_epoch, coef = None):\n",
    "    if coef==None:\n",
    "        coef = [0.0 for i in range(X_train.shape[1])]\n",
    "    for epoch in range(n_epoch):\n",
    "        for i in range(X_train.shape[0]):\n",
    "            row = X[i]\n",
    "\n",
    "            yhat = predict(row, coef)\n",
    "            error = y_train[i] - yhat\n",
    "            coef[0] = coef[0] + l_rate * error * yhat * (1.0 - yhat)\n",
    "            for i in range(len(row)-1):\n",
    "                coef[i + 1] = coef[i + 1] + l_rate * error * yhat * (1.0 - yhat) * row[i]\n",
    "    return coef  \n",
    "\n",
    "def mini_bgd(X_train, y_train, l_rate, n_epoch, coef = None):\n",
    "    if coef==None:\n",
    "        coef = [0.0 for i in range(X_train.shape[1])]\n",
    "    for epoch in range(n_epoch):\n",
    "        np.random.shuffle(X_train)\n",
    "        for i in range(int(X_train.shape[0]/50)):\n",
    "            row = X[i]\n",
    "            yhat = predict(row, coef)\n",
    "            error = y_train[i] - yhat\n",
    "            coef[0] = coef[0] + l_rate * error * yhat * (1.0 - yhat)\n",
    "            for i in range(len(row)-1):\n",
    "                coef[i + 1] = coef[i + 1] + l_rate * error * yhat * (1.0 - yhat) * row[i]\n",
    "    return coef    \n",
    "\n",
    "def sgd(X_train, y_train, l_rate, n_epoch, coef = None):\n",
    "    if coef==None:\n",
    "        coef = [0.0 for i in range(X_train.shape[1])]\n",
    "    for epoch in range(n_epoch):\n",
    "        np.random.shuffle(X_train)\n",
    "        for i in range(int(X_train.shape[0]/50)):\n",
    "            row = X[i]\n",
    "            yhat = predict(row, coef)\n",
    "            error = y_train[i] - yhat\n",
    "            coef[0] = coef[0] + l_rate * error * yhat * (1.0 - yhat)\n",
    "            for i in range(len(row)-1):\n",
    "                coef[i + 1] = coef[i + 1] + l_rate * error * yhat * (1.0 - yhat) * row[i]\n",
    "    return coef\n",
    "    \n",
    "\n",
    "def logistic_regression(X_train, y_train, X_test, l_rate, n_epoch):\n",
    "    predictions = list()\n",
    "    coef = sgd(X_train, y_train, l_rate, n_epoch)\n",
    "    for row in X_test:\n",
    "        yhat = predict(row, coef)\n",
    "        yhat = round(yhat)\n",
    "        predictions.append(yhat)\n",
    "    return(predictions)\n",
    "\n",
    "def accuracy_metric(actual, predicted):\n",
    "    correct = 0\n",
    "    for i in range(len(actual)):\n",
    "        if actual[i] == predicted[i]:\n",
    "            correct += 1\n",
    "    return correct / float(len(actual)) * 100.0\n",
    "\n",
    "\n",
    "def evaluate_algorithm(X, y, algorithm, n_folds, *args):\n",
    "    kf = KFold(n_splits=n_folds)\n",
    "    kf.get_n_splits(X)\n",
    "    scores = []\n",
    "    for train_index, test_index in kf.split(X):\n",
    "        predicted = algorithm(X[train_index], y[train_index], X[test_index], *args)\n",
    "        actual = y[test_index]\n",
    "        accuracy = accuracy_metric(actual, predicted)\n",
    "        scores.append(accuracy)\n",
    "    return scores"
   ]
  },
  {
   "cell_type": "code",
   "execution_count": 42,
   "metadata": {},
   "outputs": [
    {
     "name": "stdout",
     "output_type": "stream",
     "text": [
      "Time used: 3.1404461380000157\n",
      "Scores: [55.32, 92.72, 92.92, 93.47999999999999]\n",
      "Mean Accuracy: 83.610%\n"
     ]
    }
   ],
   "source": [
    "# evaluate algorithm\n",
    "n_folds = 4\n",
    "l_rate = 0.1\n",
    "n_epoch = 100\n",
    "start = time.process_time() \n",
    "scores = evaluate_algorithm(X, y, logistic_regression, n_folds, l_rate, n_epoch)\n",
    "elapsed = (time.process_time() - start)\n",
    "print(\"Time used:\",elapsed)\n",
    "print('Scores: %s' % scores)\n",
    "print('Mean Accuracy: %.3f%%' % (sum(scores)/float(len(scores))))"
   ]
  },
  {
   "cell_type": "code",
   "execution_count": null,
   "metadata": {},
   "outputs": [],
   "source": []
  }
 ],
 "metadata": {
  "kernelspec": {
   "display_name": "Python 3",
   "language": "python",
   "name": "python3"
  },
  "language_info": {
   "codemirror_mode": {
    "name": "ipython",
    "version": 3
   },
   "file_extension": ".py",
   "mimetype": "text/x-python",
   "name": "python",
   "nbconvert_exporter": "python",
   "pygments_lexer": "ipython3",
   "version": "3.7.5"
  }
 },
 "nbformat": 4,
 "nbformat_minor": 2
}
