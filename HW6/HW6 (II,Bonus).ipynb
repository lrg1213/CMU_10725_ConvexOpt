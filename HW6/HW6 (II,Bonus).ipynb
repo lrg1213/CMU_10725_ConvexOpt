{
 "cells": [
  {
   "cell_type": "markdown",
   "metadata": {},
   "source": [
    "# Generate Train and Test Data"
   ]
  },
  {
   "cell_type": "code",
   "execution_count": 149,
   "metadata": {},
   "outputs": [],
   "source": [
    "import numpy as np\n",
    "from sklearn.svm import LinearSVC\n",
    "from sklearn.datasets import make_classification\n",
    "X_train, y_train = make_classification(n_samples=1000, n_features=20, random_state=1425)\n",
    "X_test, y_test = make_classification(n_samples=2000, n_features=20, random_state=1337)\n",
    "y_train = 2*y_train-1\n",
    "y_test = 2*y_test-1"
   ]
  },
  {
   "cell_type": "markdown",
   "metadata": {},
   "source": [
    "# Set Params"
   ]
  },
  {
   "cell_type": "code",
   "execution_count": 141,
   "metadata": {},
   "outputs": [],
   "source": [
    "Sa = 0.1\n",
    "Sb = 10\n",
    "S = 0.5"
   ]
  },
  {
   "cell_type": "markdown",
   "metadata": {},
   "source": [
    "# Train Constrained SVM with Different Regularization Settings"
   ]
  },
  {
   "cell_type": "code",
   "execution_count": 150,
   "metadata": {
    "scrolled": true
   },
   "outputs": [
    {
     "name": "stdout",
     "output_type": "stream",
     "text": [
      "[[ 5.58156142e-03  0.00000000e+00  1.41480392e-02  5.52439581e-02\n",
      "   1.33598678e-02 -2.64579773e-02  6.14493466e-03 -2.69039837e-01\n",
      "  -5.21789888e-02  5.73762262e-05  2.64978992e-02  2.04546529e-02\n",
      "   2.31047493e-03  0.00000000e+00  4.41291691e-02  0.00000000e+00\n",
      "  -1.94386188e-02  9.40541853e-01  0.00000000e+00 -4.33705537e-03]]\n",
      "[-0.01737903]\n",
      "Test Acc: 0.5115\n"
     ]
    }
   ],
   "source": [
    "clf = LinearSVC(penalty='l1',C=S,loss='squared_hinge',random_state=0, tol=1e-5, dual=False, max_iter=1e4)\n",
    "clf.fit(X_train, y_train)\n",
    "print(clf.coef_)\n",
    "print(clf.intercept_)\n",
    "print('Test Acc:',np.sum(clf.predict(X_test)==y_test)/2000)"
   ]
  },
  {
   "cell_type": "code",
   "execution_count": 151,
   "metadata": {},
   "outputs": [
    {
     "name": "stdout",
     "output_type": "stream",
     "text": [
      "[[ 0.          0.          0.00606546  0.04241539  0.00125051 -0.02002052\n",
      "   0.         -0.25462868 -0.03847091  0.          0.0150152   0.007039\n",
      "   0.          0.          0.0323356   0.         -0.01059925  0.91573268\n",
      "   0.          0.        ]]\n",
      "[-0.00649671]\n",
      "Test Acc: 0.505\n"
     ]
    }
   ],
   "source": [
    "clfa = LinearSVC(penalty='l1',C=Sa,loss='squared_hinge',random_state=0, tol=1e-5, dual=False, max_iter=1e4)\n",
    "clfa.fit(X_train, y_train)\n",
    "print(clfa.coef_)\n",
    "print(clfa.intercept_)\n",
    "print('Test Acc:',np.sum(clfa.predict(X_test)==y_test)/2000)"
   ]
  },
  {
   "cell_type": "code",
   "execution_count": 152,
   "metadata": {},
   "outputs": [
    {
     "name": "stdout",
     "output_type": "stream",
     "text": [
      "[[ 7.24195366e-03  0.00000000e+00  1.63785264e-02  5.81064274e-02\n",
      "   1.67489641e-02 -2.81774799e-02  9.20904788e-03 -2.73648196e-01\n",
      "  -5.54402589e-02  2.62569877e-03  2.92706652e-02  2.44573685e-02\n",
      "   4.37787443e-03  2.75853472e-03  4.74482509e-02  0.00000000e+00\n",
      "  -2.14933542e-02  9.47117380e-01  2.61623605e-04 -6.42252746e-03]]\n",
      "[-0.02013351]\n",
      "Test Acc: 0.514\n"
     ]
    }
   ],
   "source": [
    "clfb = LinearSVC(penalty='l1',C=Sb,loss='squared_hinge',random_state=0, tol=1e-5, dual=False, max_iter=1e4)\n",
    "clfb.fit(X_train, y_train)\n",
    "print(clfb.coef_)\n",
    "print(clfb.intercept_)\n",
    "print('Test Acc:',np.sum(clfb.predict(X_test)==y_test)/2000)"
   ]
  },
  {
   "cell_type": "markdown",
   "metadata": {},
   "source": [
    "# Apply Screening Rules"
   ]
  },
  {
   "cell_type": "code",
   "execution_count": 145,
   "metadata": {},
   "outputs": [],
   "source": [
    "A = y_train*(X_train.dot(clfa.coef_.squeeze()))\n",
    "gamma_a = 0.5*(np.linalg.norm(clfa.coef_,2)**2)\n",
    "gamma_b = 0.5*(np.linalg.norm(clfb.coef_,2)**2)\n",
    "c = (gamma_b-gamma_a)/gamma_a\n",
    "B = np.sqrt(c*(2*gamma_a*(np.linalg.norm(X_train,2,axis=1)**2)-(X_train.dot(clfa.coef_.squeeze()))**2))\n",
    "idx1 = np.where(A > 1)\n",
    "idx2 = np.where((A - B) > 1)\n",
    "I = np.union1d(idx1[0],idx2[0])\n",
    "Idx = np.setdiff1d(np.arange(0,1000),I)\n",
    "X_screen = X_train[Idx]\n",
    "y_screen = y_train[Idx]"
   ]
  },
  {
   "cell_type": "code",
   "execution_count": 146,
   "metadata": {},
   "outputs": [
    {
     "data": {
      "text/plain": [
       "(443,)"
      ]
     },
     "execution_count": 146,
     "metadata": {},
     "output_type": "execute_result"
    }
   ],
   "source": [
    "Idx.shape"
   ]
  },
  {
   "cell_type": "markdown",
   "metadata": {},
   "source": [
    "# Validate Using Screened Dataset"
   ]
  },
  {
   "cell_type": "code",
   "execution_count": 147,
   "metadata": {},
   "outputs": [
    {
     "name": "stdout",
     "output_type": "stream",
     "text": [
      "[[ 5.54843897e-03  0.00000000e+00  1.41573279e-02  5.52708502e-02\n",
      "   1.33647622e-02 -2.64553540e-02  6.15407381e-03 -2.69021576e-01\n",
      "  -5.22237008e-02  6.00414675e-05  2.64789113e-02  2.04739956e-02\n",
      "   2.30726062e-03  0.00000000e+00  4.41385207e-02  0.00000000e+00\n",
      "  -1.94450033e-02  9.40505876e-01  0.00000000e+00 -4.37704199e-03]]\n",
      "[-0.01737142]\n",
      "Test Acc: 0.5115\n"
     ]
    }
   ],
   "source": [
    "clfs = LinearSVC(penalty='l1',C=S,loss='squared_hinge',random_state=0, tol=1e-5, dual=False, max_iter=1e4)\n",
    "clfs.fit(X_screen, y_screen)\n",
    "print(clfs.coef_)\n",
    "print(clfs.intercept_)\n",
    "print('Test Acc:',np.sum(clfs.predict(X_test)==y_test)/2000)"
   ]
  },
  {
   "cell_type": "markdown",
   "metadata": {},
   "source": [
    "## Compared with results above we can conclude that our screening rules work, i.e. those points are safely discarded from training set without affecting our results."
   ]
  },
  {
   "cell_type": "markdown",
   "metadata": {},
   "source": [
    "# Validate Other Training Subset Selection"
   ]
  },
  {
   "cell_type": "code",
   "execution_count": 148,
   "metadata": {},
   "outputs": [
    {
     "name": "stdout",
     "output_type": "stream",
     "text": [
      "[[ 0.03996244  0.         -0.08600235  0.05724773  0.02165426  0.0026134\n",
      "   0.10583124 -0.30106755 -0.01948299 -0.04128435 -0.03642277 -0.01885621\n",
      "   0.02868497 -0.03499622 -0.00573849  0.         -0.15254133  1.26719667\n",
      "  -0.06761293  0.02037816]]\n",
      "[-0.0597745]\n",
      "Test Acc: 0.527\n"
     ]
    }
   ],
   "source": [
    "clfk = LinearSVC(penalty='l1',C=S,loss='squared_hinge',random_state=0, tol=1e-5, dual=False, max_iter=1e4)\n",
    "clfk.fit(X_train[0:500], y_train[0:500])\n",
    "print(clfk.coef_)\n",
    "print(clfk.intercept_)\n",
    "print('Test Acc:',np.sum(clfk.predict(X_test)==y_test)/2000)"
   ]
  },
  {
   "cell_type": "markdown",
   "metadata": {},
   "source": [
    "## We can see this subset leads to a different result."
   ]
  }
 ],
 "metadata": {
  "kernelspec": {
   "display_name": "Python 3",
   "language": "python",
   "name": "python3"
  },
  "language_info": {
   "codemirror_mode": {
    "name": "ipython",
    "version": 3
   },
   "file_extension": ".py",
   "mimetype": "text/x-python",
   "name": "python",
   "nbconvert_exporter": "python",
   "pygments_lexer": "ipython3",
   "version": "3.7.5"
  }
 },
 "nbformat": 4,
 "nbformat_minor": 2
}
