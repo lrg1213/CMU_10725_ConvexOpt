{
 "cells": [
  {
   "cell_type": "code",
   "execution_count": 210,
   "metadata": {},
   "outputs": [],
   "source": [
    "import numpy as np\n",
    "from sklearn.datasets import make_classification\n",
    "import time\n",
    "from math import exp\n",
    "import matplotlib.pyplot as plt\n",
    "from sklearn.model_selection import KFold\n",
    "from sklearn.utils import shuffle\n",
    "X, y = make_classification(n_samples=1000)\n"
   ]
  },
  {
   "cell_type": "code",
   "execution_count": 293,
   "metadata": {},
   "outputs": [],
   "source": [
    "sigmoid = lambda z : 1 / (1 + np.exp(-z))\n",
    "logloss = lambda y_hat, y : np.sum(y * np.log(y_hat) + (1 - y) * np.log(1 - y_hat)) / len(y_hat)\n",
    "# logloss = lambda y_hat, y : np.sum(-y * (y_hat) + np.log(1 + np.exp(y_hat))) / len(y_hat)\n",
    "predict = lambda X: sigmoid(np.dot(X, betas.T)) > .5\n",
    "predict_with_output = lambda X: (X > .5) * 1\n",
    "\n",
    "\n",
    "def gradient_descent(X, y, beta, lr):\n",
    "    y = y.reshape(-1, 1)\n",
    "    gradients = np.dot(X.T, sigmoid(np.dot(X, beta.T)) - y) / len(y)\n",
    "    new_betas = beta - lr * gradients.T\n",
    "\n",
    "    return new_betas, gradients\n",
    "\n",
    "def momentum_descent(X, y, beta, lr, prev_grad, alpha=0.99):\n",
    "    y = y.reshape(-1, 1)\n",
    "    gradients = np.dot(X.T, sigmoid(np.dot(X, beta.T)) - y) / len(y)\n",
    "    new_betas = beta - lr * gradients.T + alpha * prev_grad.T\n",
    "\n",
    "    return new_betas, gradients\n",
    "\n",
    "def saga_descent(X, y, beta, lr, grad, idx):\n",
    "    y = y.reshape(-1, 1)\n",
    "    gradients = np.dot(X.T, sigmoid(np.dot(X, beta.T)) - y) / len(y)\n",
    "    grad[idx] = gradients\n",
    "    d = np.sum(np.array(grad),axis=0)\n",
    "    new_betas = beta - (lr / len(grad)) * d.T\n",
    "    \n",
    "    return new_betas, grad\n",
    "    \n",
    "    \n",
    "\n",
    "def prepare_batches(X, y, batch_size):\n",
    "    X_batch_list = list()\n",
    "    y_batch_list = list()\n",
    "    \n",
    "    for i in range(len(y) // batch_size):\n",
    "        X_batch_list.append(X[i * batch_size : i * batch_size + batch_size, :])\n",
    "        y_batch_list.append(y[i * batch_size : i * batch_size + batch_size])\n",
    "    \n",
    "    if len(y) % batch_size > 0:\n",
    "        X_batch_list.append(X[len(y) // batch_size * batch_size:, :])\n",
    "        y_batch_list.append(y[len(y) // batch_size * batch_size:])\n",
    "\n",
    "    return X_batch_list, y_batch_list"
   ]
  },
  {
   "cell_type": "code",
   "execution_count": 294,
   "metadata": {},
   "outputs": [],
   "source": [
    "permutations = np.random.permutation(len(X))\n",
    "\n",
    "X, y = np.asarray(X).squeeze(), np.asarray(y)\n",
    "\n",
    "X = X[permutations, :]\n",
    "y = y[permutations]\n",
    "\n",
    "# To add beta 0\n",
    "# temp = np.ones((X.shape[0], X.shape[1] + 1))\n",
    "# temp[:, 1:] = X\n",
    "# X = temp\n",
    "\n",
    "len_test = len(X) // 5 \n",
    "len_train = len(X) - len_test\n",
    "X_test, y_test, X_train, y_train = X[:len_test, :], y[:len_test], X[len_test:, :], y[len_test:]"
   ]
  },
  {
   "cell_type": "code",
   "execution_count": 295,
   "metadata": {},
   "outputs": [
    {
     "name": "stdout",
     "output_type": "stream",
     "text": [
      "Shape of X matrix is: (1000, 20)\n",
      "Shape of y matrix is: (1000,)\n",
      "Shape of X_test matrix is: (200, 20)\n",
      "Shape of y_test matrix is: (200,)\n",
      "Shape of X_train matrix is: (800, 20)\n",
      "Shape of y_train matrix is: (800,)\n",
      "Desired samples feature vector: [-0.25536373 -0.92173955 -1.18054918  1.37790864  1.24350878  1.63002292\n",
      " -0.88277691 -0.7927288  -1.28437689  1.12022305  0.76467539 -0.79043067\n",
      "  0.30278401  0.67132107  1.93594254 -1.07051261 -0.58200852  0.91998791\n",
      " -1.38465309  0.66368946]\n",
      "Desired samples ground truth: 0\n"
     ]
    }
   ],
   "source": [
    "print(\"Shape of X matrix is: \" + str(X.shape))\n",
    "print(\"Shape of y matrix is: \" + str(y.shape))\n",
    "print(\"Shape of X_test matrix is: \" + str(X_test.shape))\n",
    "print(\"Shape of y_test matrix is: \" + str(y_test.shape))\n",
    "print(\"Shape of X_train matrix is: \" + str(X_train.shape))\n",
    "print(\"Shape of y_train matrix is: \" + str(y_train.shape))\n",
    "\n",
    "print(\"Desired samples feature vector: \" + str(X[2]))\n",
    "print(\"Desired samples ground truth: \" + str(y[2]))"
   ]
  },
  {
   "cell_type": "code",
   "execution_count": 296,
   "metadata": {},
   "outputs": [],
   "source": [
    "def BGD(X_train,y_train,lr,max_iter,epi=1e-6,patience=2,momentum=False,saga=False):\n",
    "    train_error_hist, test_error_hist, test_acc_hist = MBGD(X_train=X_train,\n",
    "                                                            y_train=y_train,\n",
    "                                                            lr=lr,\n",
    "                                                            batch_size=X_train.shape[0],\n",
    "                                                            max_iter=max_iter,\n",
    "                                                            epi=epi,\n",
    "                                                            patience=patience,\n",
    "                                                            momentum=momentum,\n",
    "                                                            saga=saga)\n",
    "    return train_error_hist, test_error_hist, test_acc_hist\n",
    "\n",
    "\n",
    "def SGD(X_train,y_train,lr,max_iter,epi=1e-6,patience=2,momentum=False,saga=False):\n",
    "    train_error_hist, test_error_hist, test_acc_hist = MBGD(X_train=X_train,\n",
    "                                                            y_train=y_train,\n",
    "                                                            lr=lr,\n",
    "                                                            batch_size=1,\n",
    "                                                            max_iter=max_iter,\n",
    "                                                            epi=epi,\n",
    "                                                            patience=patience,\n",
    "                                                            momentum=momentum,\n",
    "                                                            saga=saga)\n",
    "    return train_error_hist, test_error_hist, test_acc_hist\n",
    "\n",
    "def MBGD(X_train,y_train,lr,batch_size,max_iter,epi=1e-6,patience=2,momentum=False,saga=False):\n",
    "    train_error_hist = list()\n",
    "    test_error_hist = list()\n",
    "    test_acc_hist = list()\n",
    "\n",
    "    betas = np.random.random(X.shape[1]).reshape(1, -1)\n",
    "\n",
    "    prev_average = np.inf\n",
    "\n",
    "    patience_counter = 0\n",
    "    iteration_counter = 0\n",
    "    \n",
    "    if saga:\n",
    "        grad = list()\n",
    "        sagaFlag = True\n",
    "            \n",
    "    if momentum: \n",
    "        grad = np.random.random(X.shape[1]).reshape(1, -1).T\n",
    "    \n",
    "    while iteration_counter < max_iter:\n",
    "        lr = 1. / (2*iteration_counter+1.)\n",
    "        if saga==False:\n",
    "            X_train, y_train = shuffle(X, y, random_state=0)\n",
    "        X_batch_list, y_batch_list = prepare_batches(X_train, y_train, batch_size)\n",
    "        n_batches = len(y_batch_list)\n",
    "\n",
    "            \n",
    "        for i in range(n_batches):\n",
    "            X_batch = X_batch_list[i]\n",
    "            y_batch = y_batch_list[i]\n",
    "            \n",
    "            if momentum:\n",
    "                betas, grad = momentum_descent(X_batch, y_batch, betas, lr, grad)\n",
    "            else:\n",
    "                if (saga and sagaFlag==False):\n",
    "                    betas, grad = saga_descent(X_batch, y_batch, betas, lr, grad, i)\n",
    "                else:\n",
    "                    betas, gd = gradient_descent(X_batch, y_batch, betas, lr)\n",
    "                \n",
    "                if (saga and sagaFlag):\n",
    "                    grad.append(gd)\n",
    "                \n",
    "\n",
    "            y_hat = sigmoid(np.dot(X_batch, betas.T))\n",
    "            train_error_hist.append(logloss(y_hat, y_batch) / len(y_batch))\n",
    "\n",
    "            y_hat = sigmoid(np.dot(X_test, betas.T))\n",
    "            test_error_hist.append(logloss(y_hat, y_test) / len(y_test))\n",
    "            test_acc_hist.append(np.mean((predict_with_output(y_hat) == y_test.reshape(-1, 1)) * 1))\n",
    "\n",
    "            iteration_counter += 1\n",
    "\n",
    "        current_average = np.mean(train_error_hist[-n_batches:])\n",
    "        \n",
    "        if saga:\n",
    "            sagaFlag = False\n",
    "\n",
    "        if np.abs(prev_average - current_average) < epi:\n",
    "            patience_counter += 1\n",
    "        else:\n",
    "            patience_counter = 0\n",
    "\n",
    "        prev_average = current_average\n",
    "\n",
    "        if patience_counter == patience:\n",
    "            break\n",
    "    return  train_error_hist, test_error_hist, test_acc_hist\n"
   ]
  },
  {
   "cell_type": "code",
   "execution_count": 275,
   "metadata": {},
   "outputs": [],
   "source": [
    "train_error_hist, test_error_hist, test_acc_hist = MBGD(X_train,y_train,lr=0.01,batch_size=512,max_iter=1000,epi=1e-6,patience=2)"
   ]
  },
  {
   "cell_type": "code",
   "execution_count": 271,
   "metadata": {},
   "outputs": [],
   "source": [
    "train_error_hist, test_error_hist, test_acc_hist = BGD(X_train,y_train,lr=0.01,max_iter=1000,epi=1e-6,patience=2)"
   ]
  },
  {
   "cell_type": "code",
   "execution_count": 297,
   "metadata": {},
   "outputs": [
    {
     "name": "stderr",
     "output_type": "stream",
     "text": [
      "/opt/miniconda3/lib/python3.7/site-packages/ipykernel_launcher.py:2: RuntimeWarning: divide by zero encountered in log\n",
      "  \n",
      "/opt/miniconda3/lib/python3.7/site-packages/ipykernel_launcher.py:2: RuntimeWarning: invalid value encountered in multiply\n",
      "  \n"
     ]
    }
   ],
   "source": [
    "train_error_hist, test_error_hist, test_acc_hist = SGD(X_train,y_train,lr=0.01,max_iter=1000,epi=1e-6,patience=2,momentum=False,saga=True)"
   ]
  },
  {
   "cell_type": "code",
   "execution_count": 298,
   "metadata": {},
   "outputs": [
    {
     "data": {
      "text/plain": [
       "<matplotlib.legend.Legend at 0x1a22410ad0>"
      ]
     },
     "execution_count": 298,
     "metadata": {},
     "output_type": "execute_result"
    },
    {
     "data": {
      "image/png": "[encoded data removed]",
      "text/plain": [
       "<Figure size 432x288 with 1 Axes>"
      ]
     },
     "metadata": {
      "needs_background": "light"
     },
     "output_type": "display_data"
    }
   ],
   "source": [
    "plt.plot(test_error_hist)\n",
    "plt.plot(train_error_hist)\n",
    "plt.xlabel(\"#Iterations\")\n",
    "plt.ylabel(\"Total Loss\")\n",
    "plt.title(\"Loss vs Number of iterations\")\n",
    "plt.legend((\"Test error\", \"Train error\"))"
   ]
  },
  {
   "cell_type": "code",
   "execution_count": 299,
   "metadata": {},
   "outputs": [
    {
     "data": {
      "text/plain": [
       "Text(0.5, 1.0, 'Accuracy vs Number of iterations')"
      ]
     },
     "execution_count": 299,
     "metadata": {},
     "output_type": "execute_result"
    },
    {
     "data": {
      "image/png": "[encoded data removed]",
      "text/plain": [
       "<Figure size 432x288 with 1 Axes>"
      ]
     },
     "metadata": {
      "needs_background": "light"
     },
     "output_type": "display_data"
    }
   ],
   "source": [
    "plt.plot(test_acc_hist)\n",
    "plt.xlabel(\"#Iterations\")\n",
    "plt.ylabel(\"Accuracy\")\n",
    "plt.title(\"Accuracy vs Number of iterations\")"
   ]
  },
  {
   "cell_type": "code",
   "execution_count": null,
   "metadata": {},
   "outputs": [],
   "source": []
  },
  {
   "cell_type": "code",
   "execution_count": null,
   "metadata": {},
   "outputs": [],
   "source": []
  },
  {
   "cell_type": "code",
   "execution_count": null,
   "metadata": {},
   "outputs": [],
   "source": []
  },
  {
   "cell_type": "code",
   "execution_count": null,
   "metadata": {},
   "outputs": [],
   "source": []
  },
  {
   "cell_type": "code",
   "execution_count": null,
   "metadata": {},
   "outputs": [],
   "source": []
  },
  {
   "cell_type": "code",
   "execution_count": 126,
   "metadata": {},
   "outputs": [],
   "source": [
    "from random import seed\n",
    "from random import randrange\n",
    "from csv import reader\n",
    "from math import exp\n",
    "import numpy as np\n",
    "import time\n",
    "# from multiprocessing import Pool\n",
    "from multiprocessing import Pool as ThreadPool\n",
    "\n",
    "\n",
    "# Load a CSV file\n",
    "def load_csv(filename):\n",
    "    dataset = list()\n",
    "    with open(filename, 'r') as file:\n",
    "        csv_reader = reader(file)\n",
    "        for row in csv_reader:\n",
    "            if not row:\n",
    "                continue\n",
    "            dataset.append(row)\n",
    "    return dataset\n",
    "\n",
    "# Convert string column to float\n",
    "def str_column_to_float(dataset, column):\n",
    "    for row in dataset:\n",
    "        row[column] = float(row[column].strip())\n",
    "\n",
    "# Find the min and max values for each column\n",
    "def dataset_minmax(dataset):\n",
    "    minmax = list()\n",
    "    for i in range(len(dataset[0])):\n",
    "        col_values = [row[i] for row in dataset]\n",
    "        value_min = min(col_values)\n",
    "        value_max = max(col_values)\n",
    "        minmax.append([value_min, value_max])\n",
    "    return minmax\n",
    "\n",
    "# Rescale dataset columns to the range 0-1\n",
    "def normalize_dataset(dataset, minmax):\n",
    "    for row in dataset:\n",
    "        for i in range(len(row)):\n",
    "            row[i] = (row[i] - minmax[i][0]) / (minmax[i][1] - minmax[i][0])\n",
    "\n",
    "# Test the logistic regression algorithm on the diabetes dataset\n",
    "seed(1)\n",
    "# load and prepare data\n",
    "filename = 'pima-indians-diabetes.csv'\n",
    "dataset = load_csv(filename)\n",
    "for i in range(len(dataset[0])):\n",
    "    str_column_to_float(dataset, i)\n",
    "# normalize\n",
    "minmax = dataset_minmax(dataset)\n",
    "normalize_dataset(dataset, minmax)\n",
    "X = np.array(dataset)[:,:-1]\n",
    "y = np.array(dataset)[:,-1]"
   ]
  },
  {
   "cell_type": "code",
   "execution_count": null,
   "metadata": {},
   "outputs": [],
   "source": []
  }
 ],
 "metadata": {
  "kernelspec": {
   "display_name": "Python 3",
   "language": "python",
   "name": "python3"
  },
  "language_info": {
   "codemirror_mode": {
    "name": "ipython",
    "version": 3
   },
   "file_extension": ".py",
   "mimetype": "text/x-python",
   "name": "python",
   "nbconvert_exporter": "python",
   "pygments_lexer": "ipython3",
   "version": "3.7.5"
  }
 },
 "nbformat": 4,
 "nbformat_minor": 2
}
