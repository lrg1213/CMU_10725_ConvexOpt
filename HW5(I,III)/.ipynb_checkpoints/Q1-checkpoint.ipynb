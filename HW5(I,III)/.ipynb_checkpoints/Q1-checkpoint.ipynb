{
 "cells": [
  {
   "cell_type": "code",
   "execution_count": null,
   "metadata": {},
   "outputs": [],
   "source": [
    "import numpy as np\n",
    "import matplotlib.pyplot as plt\n",
    "from prox import prox_dp\n",
    "from sklearn.datasets import make_spd_matrix,make_sparse_spd_matrix"
   ]
  },
  {
   "cell_type": "code",
   "execution_count": null,
   "metadata": {},
   "outputs": [],
   "source": [
    "class LossFunc:\n",
    "    \n",
    "    # initialization\n",
    "    def __init__(self,Q,b,lam,tol=1e-10):\n",
    "\n",
    "        self.Q = Q\n",
    "        self.b = b\n",
    "        self.lam = lam\n",
    "        self.tol = tol\n",
    "    \n",
    "    def g(self,x):\n",
    "        return 0.5*np.dot(x.T.dot(self.Q),x)-np.dot(self.b,x)\n",
    "\n",
    "    def h(self,x):\n",
    "        return self.lam*np.linalg.norm(x,1)\n",
    "\n",
    "    def gGrad(self,x):\n",
    "        return self.Q.dot(x) - self.b\n",
    "\n",
    "    def obj(self,x):\n",
    "        return self.g(x)+self.h(x)\n",
    "\n",
    "    def Gt(self,x,t,idx):\n",
    "        x_0 = x.copy()\n",
    "        x[idx] = self.prox(x[idx]-t*self.gGrad(x)[idx],t)\n",
    "        return (x_0 - x)/t\n",
    "    \n",
    "    def soft_threshold(self,a,b):\n",
    "        if (np.abs(a)<=b):\n",
    "            return 0\n",
    "        if(a<-b):\n",
    "            return a+b\n",
    "        if(a>b):\n",
    "            return a-b\n",
    "    \n",
    "    def prox(self,x,t):\n",
    "        return self.soft_threshold(x,self.lam*t)\n"
   ]
  },
  {
   "cell_type": "code",
   "execution_count": null,
   "metadata": {},
   "outputs": [],
   "source": [
    "# Setup and Inital\n",
    "n = 100\n",
    "x = np.random.rand(n)\n",
    "# Q = make_spd_matrix(n)\n",
    "Q = make_sparse_spd_matrix(n,0.99)\n",
    "b = np.random.randn(n)\n",
    "lam = 0.1\n",
    "bta = 0.8\n",
    "epi = 1e-20"
   ]
  },
  {
   "cell_type": "code",
   "execution_count": null,
   "metadata": {},
   "outputs": [],
   "source": [
    "# Proximal GD Backtracking\n",
    "\n",
    "L = LossFunc(Q,b,lam)\n",
    "obj_0 = L.obj(x)\n",
    "x_0 = x.copy()\n",
    "cot1 = 0\n",
    "\n",
    "while(True):\n",
    "    for i in range(n):\n",
    "        t = 1\n",
    "        G = L.Gt(x,t,i)\n",
    "        while(np.isnan(L.g(x-t*G))):\n",
    "            t = bta*t\n",
    "            G = L.Gt(x,t,i)\n",
    "        while (L.g(x-t*G) > L.g(x)-t*np.dot(L.gGrad(x),G)+0.5*t*(np.linalg.norm(G)**2)):\n",
    "            t = bta*t\n",
    "            cot1 = cot1+1\n",
    "            G = L.Gt(x,t,i)\n",
    "        cot1 = cot1+1\n",
    "        x[i] = L.prox(x[i]-t*L.gGrad(x)[i],t)\n",
    "    obj_1 = L.obj(x)\n",
    "    print(obj_1)\n",
    "    if (obj_0 - obj_1) < epi:\n",
    "        break\n",
    "    obj_0 = obj_1\n",
    "\n",
    "print(cot1)\n",
    "print(x)"
   ]
  },
  {
   "cell_type": "code",
   "execution_count": null,
   "metadata": {},
   "outputs": [],
   "source": [
    "# Coordinate Proximal GD\n",
    "\n",
    "L = LossFunc(Q,b,lam)\n",
    "obj_0 = L.obj(x)\n",
    "x = x_0.copy()\n",
    "cot2 = 0\n",
    "\n",
    "while(True):\n",
    "    for i in range(n):\n",
    "        t = 1/Q[i,i]\n",
    "        x[i] = L.prox(x[i]-t*L.gGrad(x)[i],t)\n",
    "        cot2 = cot2+1\n",
    "    obj_1 = L.obj(x)\n",
    "    \n",
    "    if (obj_0 - obj_1) < epi:\n",
    "        break\n",
    "    \n",
    "    obj_0 = obj_1\n",
    "\n",
    "print(cot2)\n",
    "print(x)"
   ]
  }
 ],
 "metadata": {
  "kernelspec": {
   "display_name": "Python 3",
   "language": "python",
   "name": "python3"
  },
  "language_info": {
   "codemirror_mode": {
    "name": "ipython",
    "version": 3
   },
   "file_extension": ".py",
   "mimetype": "text/x-python",
   "name": "python",
   "nbconvert_exporter": "python",
   "pygments_lexer": "ipython3",
   "version": "3.7.5"
  },
  "latex_envs": {
   "LaTeX_envs_menu_present": true,
   "autoclose": false,
   "autocomplete": true,
   "bibliofile": "biblio.bib",
   "cite_by": "apalike",
   "current_citInitial": 1,
   "eqLabelWithNumbers": true,
   "eqNumInitial": 1,
   "hotkeys": {
    "equation": "Ctrl-E",
    "itemize": "Ctrl-I"
   },
   "labels_anchors": false,
   "latex_user_defs": false,
   "report_style_numbering": false,
   "user_envs_cfg": false
  }
 },
 "nbformat": 4,
 "nbformat_minor": 2
}
