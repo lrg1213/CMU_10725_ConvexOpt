{
 "cells": [
  {
   "cell_type": "code",
   "execution_count": 1,
   "metadata": {},
   "outputs": [],
   "source": [
    "import numpy as np\n",
    "train_X = np.loadtxt('trainRatings.txt',delimiter=',')\n",
    "train_y = np.loadtxt('trainLabels.txt')\n",
    "test_X = np.loadtxt('testRatings.txt',delimiter=',')\n",
    "test_y = np.loadtxt('testLabels.txt')\n",
    "group_y = np.loadtxt('groupLabelsPerRating.txt',delimiter=',')\n",
    "group_name  = []\n",
    "\n",
    "with open('groupTitles.txt', 'r') as f:\n",
    "    data = f.readlines()\n",
    " \n",
    "    for line in data:\n",
    "        odom = line.split()\n",
    "        group_name.append(odom) \n",
    "\n",
    "group_y = np.insert(group_y, 0, values=0)"
   ]
  },
  {
   "cell_type": "code",
   "execution_count": 2,
   "metadata": {},
   "outputs": [],
   "source": [
    "import numpy as np\n",
    "import matplotlib.pyplot as plt\n",
    "\n",
    "\n",
    "def obj(X,y,beta,lamda,group_y,w):\n",
    "    return g(X,y,beta)+h(lamda,w,beta,group_y)\n",
    "    \n",
    "def g(X,y,beta):\n",
    "    g1 = np.sum(-y*np.dot(X,beta))\n",
    "    g2 = np.sum(np.log(1+np.exp(np.dot(X,beta))))\n",
    "    return g1+g2\n",
    "\n",
    "def h(lamda,w,beta,group_y):\n",
    "    return lamda*np.sum(w*group_norm(beta,group_y))\n",
    "\n",
    "def group_norm(beta,group_y):\n",
    "    group_num = np.unique(group_y).shape[0]\n",
    "    S = np.zeros(group_num)\n",
    "    for i in range(group_num):\n",
    "        t = beta*(group_y==i)\n",
    "        S[i] = np.linalg.norm(t[group_y==i])\n",
    "    return S\n",
    "    \n",
    "def gGrad(X,y,beta):\n",
    "    g1 = np.sum(np.multiply(-y.reshape(y.shape[0],1),X),axis=0)\n",
    "    G = np.dot(X,beta)\n",
    "    Y = np.exp(G)/(1+np.exp(G))\n",
    "    g2 = np.sum(np.multiply(Y.reshape(Y.shape[0],1),X),axis=0)\n",
    "    return g1+g2\n",
    "    \n",
    "def prox(beta,beta_grad,lamda,w,t):\n",
    "    x = beta-lr*beta_grad\n",
    "    l2 = np.linalg.norm(x)\n",
    "    c = lamda*w*t\n",
    "    return x*np.maximum(0,1-c/l2)\n",
    "\n",
    "    \n",
    "def Gt(beta,beta_grad,lamda,w,t):\n",
    "    return (beta - prox(beta,beta_grad,lamda,w,t))/t\n",
    "    \n",
    "\n"
   ]
  },
  {
   "cell_type": "code",
   "execution_count": 3,
   "metadata": {},
   "outputs": [],
   "source": [
    "beta_init = np.random.rand(train_X.shape[1]+1)\n",
    "#beta_init = np.zeros(train_X.shape[1]+1)\n",
    "#beta_init[0] = 0"
   ]
  },
  {
   "cell_type": "code",
   "execution_count": 4,
   "metadata": {},
   "outputs": [
    {
     "name": "stdout",
     "output_type": "stream",
     "text": [
      "Start Loss: 11862.836991119595\n",
      "Final Loss: 26.049453062553766\n"
     ]
    }
   ],
   "source": [
    "#Proximal GD (c)\n",
    "\n",
    "p = train_X.shape[1]\n",
    "n = train_X.shape[0]\n",
    "kMax = 1000\n",
    "lamda = 5\n",
    "lr = 1e-4\n",
    "f_star = 336.207\n",
    "group_num = np.unique(group_y).shape[0]\n",
    "unique, counts = np.unique(group_y, return_counts=True)\n",
    "w = np.sqrt(counts)\n",
    "objL1 = []\n",
    "\n",
    "\n",
    "beta_0 = beta_init.copy() # Initialize with random\n",
    "#beta_0 = np.zeros(p+1)      # Initialize with zero\n",
    "\n",
    "\n",
    "beta = beta_0.copy()\n",
    "X = np.insert(train_X, 0, values=1, axis=1)\n",
    "for k in range(kMax):\n",
    "    #print('Iteration',k+1,':')\n",
    "    for i in range(group_num):\n",
    "        t = beta_0[group_y==i]\n",
    "        beta_grad = gGrad(X,train_y,beta_0)[group_y==i]\n",
    "        beta[group_y==i] = prox(t,beta_grad,lamda,w[i],lr)\n",
    "    beta_0 = beta.copy()\n",
    "    residue = obj(X,train_y,beta,lamda,group_y,w)-f_star\n",
    "    if k==0:\n",
    "        print('Start Loss:',residue)\n",
    "    objL1.append(np.log(residue))\n",
    "\n",
    "# plt.plot(range(1,1001),np.array(objL1))\n",
    "# plt.show()\n",
    "#beta_st = beta.copy()\n",
    "print('Final Loss:',residue)"
   ]
  },
  {
   "cell_type": "code",
   "execution_count": 5,
   "metadata": {},
   "outputs": [
    {
     "name": "stdout",
     "output_type": "stream",
     "text": [
      "Start Loss: 11862.836991119595\n",
      "Final Loss: 1.696347499582032\n"
     ]
    }
   ],
   "source": [
    "#Nesterov Proximal GD (d)\n",
    "\n",
    "p = train_X.shape[1]\n",
    "n = train_X.shape[0]\n",
    "kMax = 1000\n",
    "lamda = 5\n",
    "lr = 1e-4\n",
    "f_star = 336.207\n",
    "group_num = np.unique(group_y).shape[0]\n",
    "unique, counts = np.unique(group_y, return_counts=True)\n",
    "w = np.sqrt(counts)\n",
    "objL2 = []\n",
    "\n",
    "beta_0 = beta_init.copy() # Initialize with random\n",
    "\n",
    "\n",
    "beta = beta_0.copy()\n",
    "beta_1 = beta_0.copy()\n",
    "X = np.insert(train_X, 0, values=1, axis=1)\n",
    "\n",
    "#print('Iteration',1,':')\n",
    "for i in range(group_num):\n",
    "    t = beta_1[group_y==i]\n",
    "    beta_grad = gGrad(X,train_y,beta_1)[group_y==i]\n",
    "    beta[group_y==i] = prox(t,beta_grad,lamda,w[i],lr)\n",
    "beta_1 = beta.copy()\n",
    "residue = obj(X,train_y,beta,lamda,group_y,w)-f_star\n",
    "print('Start Loss:',residue)\n",
    "objL2.append(np.log(residue))\n",
    "\n",
    "\n",
    "for k in range(1,kMax):\n",
    "    #print('Iteration',k+1,':')\n",
    "    for i in range(group_num):\n",
    "        v0 = beta_0[group_y==i]\n",
    "        v1 = beta_1[group_y==i]\n",
    "        v = v1 + ((k-1)/(k+2))*(v1-v0)\n",
    "        v_all = beta_1 + ((k-1)/(k+2))*(beta_1-beta_0)\n",
    "        v_grad = gGrad(X,train_y,v_all)[group_y==i]\n",
    "        beta[group_y==i] = prox(v,v_grad,lamda,w[i],lr)\n",
    "    beta_0 = beta_1.copy()\n",
    "    beta_1 = beta.copy()\n",
    "    residue = obj(X,train_y,beta,lamda,group_y,w)-f_star\n",
    "    objL2.append(np.log(residue))\n",
    "    \n",
    "# plt.plot(range(1,1001),np.array(objL2))\n",
    "# plt.show()\n",
    "print('Final Loss:',residue)\n",
    "beta_star = beta.copy()"
   ]
  },
  {
   "cell_type": "code",
   "execution_count": 6,
   "metadata": {},
   "outputs": [
    {
     "name": "stdout",
     "output_type": "stream",
     "text": [
      "Start Loss: 9950.800420167956\n"
     ]
    },
    {
     "name": "stderr",
     "output_type": "stream",
     "text": [
      "/home/lrg1213/anaconda3/lib/python3.7/site-packages/ipykernel_launcher.py:10: RuntimeWarning: overflow encountered in exp\n",
      "  # Remove the CWD from sys.path while we load stuff.\n"
     ]
    },
    {
     "name": "stdout",
     "output_type": "stream",
     "text": [
      "Final Loss: 1.6963470517459882\n"
     ]
    }
   ],
   "source": [
    "#Backtracking line search (e)\n",
    "bta = 0.1\n",
    "alpha = 0.5\n",
    "\n",
    "p = train_X.shape[1]\n",
    "n = train_X.shape[0]\n",
    "kMax = 400\n",
    "lamda = 5\n",
    "cot = 0\n",
    "f_star = 336.207\n",
    "group_num = np.unique(group_y).shape[0]\n",
    "unique, counts = np.unique(group_y, return_counts=True)\n",
    "w = np.sqrt(counts)\n",
    "objL3 = []\n",
    "ioiter = np.zeros(kMax)\n",
    "\n",
    "\n",
    "beta_0 = beta_init.copy() # Initialize with random\n",
    "\n",
    "\n",
    "beta = beta_0.copy()\n",
    "X = np.insert(train_X, 0, values=1, axis=1)\n",
    "\n",
    "# for k in range(kMax):\n",
    "#     print('Iteration',k+1,':')\n",
    "#     G = np.zeros_like(beta_0)\n",
    "#     for i in range(group_num):\n",
    "#         t = beta_0[group_y==i]\n",
    "#         beta_grad = gGrad(X,train_y,beta_0)[group_y==i]\n",
    "#         gtx = Gt(t,beta_grad,lamda,w[i],lr)\n",
    "#         G[group_y==i] = gtx\n",
    "#     lr = 1\n",
    "#     for i in range(group_num):\n",
    "#         t = beta_0[group_y==i]\n",
    "#         beta_grad = gGrad(X,train_y,beta_0)[group_y==i]\n",
    "#         gtx = Gt(t,beta_grad,lamda,w[i],lr)\n",
    "#         while (g(X,train_y,beta_0-lr*G) > g(X,train_y,beta_0)-lr*np.dot(beta_grad,gtx)+0.5*lr*np.linalg.norm(gtx)):\n",
    "#             lr = bta*lr\n",
    "#             cot = cot + 1\n",
    "#         beta[group_y==i] = prox(t,beta_grad,lamda,w[i],lr)\n",
    "#         #inneriter[k] = inneriter[k]+1\n",
    "#         #print(lr)\n",
    "#     beta_0 = beta.copy()\n",
    "#     residue = obj(X,train_y,beta,lamda,group_y,w)-f_star\n",
    "#     print(residue)\n",
    "#     objL3.append(np.log(residue))\n",
    "#     cot = cot+1\n",
    "#     ioiter[k] = cot\n",
    "\n",
    "for k in range(kMax):\n",
    "    #print('Iteration',k+1,':')\n",
    "    G = np.zeros_like(beta_0)\n",
    "    for i in range(group_num):\n",
    "        t = beta_0[group_y==i]\n",
    "        beta_grad = gGrad(X,train_y,beta_0)[group_y==i]\n",
    "        gtx = Gt(t,beta_grad,lamda,w[i],lr)\n",
    "        G[group_y==i] = gtx\n",
    "    \n",
    "    lr = 1\n",
    "    while (g(X,train_y,beta_0-lr*G) > g(X,train_y,beta_0)-lr*np.dot(gGrad(X,train_y,beta_0),G)+0.5*lr*np.linalg.norm(G)*np.linalg.norm(G)):\n",
    "        lr = bta*lr\n",
    "        cot = cot + 1\n",
    "    for i in range(group_num):\n",
    "        t = beta_0[group_y==i]\n",
    "        beta_grad = gGrad(X,train_y,beta_0)[group_y==i]\n",
    "        gtx = Gt(t,beta_grad,lamda,w[i],lr)\n",
    "        beta[group_y==i] = prox(t,beta_grad,lamda,w[i],lr)\n",
    "        #inneriter[k] = inneriter[k]+1\n",
    "        #print(lr)\n",
    "    beta_0 = beta.copy()\n",
    "    residue = obj(X,train_y,beta,lamda,group_y,w)-f_star\n",
    "    if k==0:\n",
    "        print('Start Loss:',residue)\n",
    "    objL3.append(np.log(residue))\n",
    "    cot = cot+1\n",
    "    ioiter[k] = cot\n",
    "    \n",
    "        \n",
    "# plt.plot(range(1,401),np.array(objL3))\n",
    "# plt.show()    \n",
    "print('Final Loss:',residue)\n"
   ]
  },
  {
   "cell_type": "code",
   "execution_count": 7,
   "metadata": {},
   "outputs": [
    {
     "data": {
      "image/png": "[encoded data removed]",
      "text/plain": [
       "<Figure size 1152x648 with 1 Axes>"
      ]
     },
     "metadata": {
      "needs_background": "light"
     },
     "output_type": "display_data"
    }
   ],
   "source": [
    "plt.figure(figsize=(16,9))\n",
    "plt.plot(range(1,1001),np.array(objL1),label='PGD')\n",
    "plt.plot(range(1,1001),np.array(objL2),label='Nesterov PGD')\n",
    "#plt.plot(range(1,401),np.array(objL3))\n",
    "plt.plot(ioiter,np.array(objL3),label='Backtracking Line Search')\n",
    "plt.xlabel('Iterations')\n",
    "plt.ylabel('f-f_star')\n",
    "plt.legend()\n",
    "plt.show() "
   ]
  },
  {
   "cell_type": "code",
   "execution_count": 8,
   "metadata": {},
   "outputs": [
    {
     "name": "stdout",
     "output_type": "stream",
     "text": [
      "test error: 0.21904761904761905\n"
     ]
    }
   ],
   "source": [
    "#Prediction\n",
    "X_test = np.insert(test_X, 0, values=1, axis=1)\n",
    "pred = 1 / (1 + np.exp(np.dot(-X_test,beta_star)))\n",
    "pred = np.where(pred < 0.5, pred, 1)\n",
    "pred = np.where(pred >= 0.5, pred, 0)\n",
    "print('test error:',np.sum(pred!=test_y)/test_y.shape[0])\n"
   ]
  },
  {
   "cell_type": "code",
   "execution_count": 10,
   "metadata": {},
   "outputs": [
    {
     "data": {
      "text/plain": [
       "array([ 1.,  1.,  2.,  2.,  2.,  2.,  2.,  2.,  2.,  2.,  2.,  2.,  2.,\n",
       "        2.,  2.,  2.,  2.,  2.,  2.,  2.,  2.,  2.,  2.,  2.,  2.,  2.,\n",
       "        2.,  2.,  2.,  2.,  2.,  2.,  2.,  2.,  5.,  5.,  5.,  6.,  6.,\n",
       "        6.,  6.,  6.,  6.,  6.,  6.,  7.,  7.,  7.,  7.,  7.,  7.,  7.,\n",
       "        7.,  7.,  7.,  7.,  7.,  7.,  7.,  7.,  7.,  8.,  8.,  8.,  8.,\n",
       "        8.,  8.,  8.,  8.,  8.,  8.,  8.,  8.,  8.,  8.,  8.,  8.,  8.,\n",
       "        8.,  8.,  8.,  8.,  8.,  8.,  8.,  8.,  8.,  8.,  8.,  8.,  8.,\n",
       "        8.,  8.,  8.,  8.,  8.,  8.,  8.,  8.,  8.,  8.,  8.,  8.,  8.,\n",
       "        8.,  8.,  9.,  9.,  9.,  9.,  9.,  9.,  9.,  9.,  9.,  9.,  9.,\n",
       "        9.,  9.,  9.,  9.,  9.,  9.,  9.,  9.,  9.,  9.,  9.,  9.,  9.,\n",
       "        9.,  9., 10., 11., 11., 11., 15., 15., 15., 15., 15., 15., 15.,\n",
       "       15., 15., 15., 15., 15., 15., 15., 15., 15., 15., 15., 15., 15.,\n",
       "       15., 15., 15., 15., 15., 17., 17., 18., 18., 18., 18., 18.])"
      ]
     },
     "execution_count": 10,
     "metadata": {},
     "output_type": "execute_result"
    }
   ],
   "source": [
    "group_y[np.where(np.abs(beta_star)<1e-6)]"
   ]
  },
  {
   "cell_type": "code",
   "execution_count": 22,
   "metadata": {},
   "outputs": [
    {
     "data": {
      "text/plain": [
       "array([0., 0., 0., 0., 0.])"
      ]
     },
     "execution_count": 22,
     "metadata": {},
     "output_type": "execute_result"
    }
   ],
   "source": [
    "np.abs(beta_star)[group_y==18]"
   ]
  },
  {
   "cell_type": "code",
   "execution_count": null,
   "metadata": {},
   "outputs": [],
   "source": []
  }
 ],
 "metadata": {
  "kernelspec": {
   "display_name": "Python 3",
   "language": "python",
   "name": "python3"
  },
  "language_info": {
   "codemirror_mode": {
    "name": "ipython",
    "version": 3
   },
   "file_extension": ".py",
   "mimetype": "text/x-python",
   "name": "python",
   "nbconvert_exporter": "python",
   "pygments_lexer": "ipython3",
   "version": "3.7.4"
  }
 },
 "nbformat": 4,
 "nbformat_minor": 2
}
