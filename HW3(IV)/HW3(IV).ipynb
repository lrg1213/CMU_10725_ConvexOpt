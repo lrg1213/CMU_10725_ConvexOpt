{
 "cells": [
  {
   "cell_type": "code",
   "execution_count": 1,
   "metadata": {},
   "outputs": [],
   "source": [
    "import numpy as np\n",
    "import matplotlib.pyplot as plt\n",
    "\n",
    "with open('binseq.txt', 'r') as f:\n",
    "    binseq = f.readlines()\n",
    "binseq = binseq[0].split(',')\n",
    "binseq[-1] = '1'\n",
    "binseq = [[float(y) for y in x] for x in binseq]\n",
    "binseq = np.array(binseq)\n",
    "binseq = binseq.squeeze()"
   ]
  },
  {
   "cell_type": "code",
   "execution_count": 2,
   "metadata": {},
   "outputs": [
    {
     "name": "stdout",
     "output_type": "stream",
     "text": [
      "generating ./_prox.cpp\n",
      "(already up-to-date)\n",
      "the current directory is '/home/lrg1213/Desktop/HW3(IV)'\n",
      "running build_ext\n",
      "building '_prox' extension\n",
      "gcc -pthread -B /home/lrg1213/anaconda3/compiler_compat -Wl,--sysroot=/ -Wsign-compare -DNDEBUG -g -fwrapv -O3 -Wall -Wstrict-prototypes -fPIC -I/home/lrg1213/anaconda3/include/python3.7m -c _prox.cpp -o ./_prox.o\n",
      "gcc -pthread -B /home/lrg1213/anaconda3/compiler_compat -Wl,--sysroot=/ -Wsign-compare -DNDEBUG -g -fwrapv -O3 -Wall -Wstrict-prototypes -fPIC -I/home/lrg1213/anaconda3/include/python3.7m -c prox.cpp -o ./prox.o\n",
      "g++ -pthread -shared -B /home/lrg1213/anaconda3/compiler_compat -L/home/lrg1213/anaconda3/lib -Wl,-rpath=/home/lrg1213/anaconda3/lib -Wl,--no-as-needed -Wl,--sysroot=/ ./_prox.o ./prox.o -o ./_prox.cpython-37m-x86_64-linux-gnu.so\n"
     ]
    }
   ],
   "source": [
    "from prox import prox_dp"
   ]
  },
  {
   "cell_type": "code",
   "execution_count": 3,
   "metadata": {},
   "outputs": [],
   "source": [
    "def g(theta,y):\n",
    "    return np.sum(-y*theta+np.log(1+np.exp(theta)))\n",
    "\n",
    "def h(theta,lam):\n",
    "    return lam*np.sum(np.abs((theta - np.roll(theta,-1))[:-1]))\n",
    "\n",
    "def gGrad(theta,y):\n",
    "    return -y+(np.exp(theta)/(1+np.exp(theta)))\n",
    "\n",
    "def obj(y,theta,lam):\n",
    "    return g(y,theta)+h(theta,lam)\n",
    "\n",
    "def Gt(theta,t,y):\n",
    "    theta_0 = theta.copy()\n",
    "    prox_dp(n=theta.shape[0], y=theta_0-t*gGrad(theta_0,y), lam=20*t, theta=theta)\n",
    "    return (theta_0 - theta)/t\n",
    "\n",
    "def gd(beta,y):\n",
    "    return np.sum(np.log(1+np.exp(-y*beta)))\n",
    "    \n",
    "def hd(D,beta,lam):\n",
    "    return lam*np.linalg.norm(np.dot(D,beta),1)\n",
    "    \n"
   ]
  },
  {
   "cell_type": "code",
   "execution_count": 4,
   "metadata": {},
   "outputs": [
    {
     "data": {
      "image/png": "[encoded data removed]",
      "text/plain": [
       "<Figure size 1080x648 with 1 Axes>"
      ]
     },
     "metadata": {
      "needs_background": "light"
     },
     "output_type": "display_data"
    },
    {
     "name": "stdout",
     "output_type": "stream",
     "text": [
      "Total iterations: 68\n"
     ]
    }
   ],
   "source": [
    "# 4.(a)\n",
    "#theta = np.random.randn(*binseq.shape)\n",
    "theta = np.zeros_like(binseq)\n",
    "y = binseq.copy()\n",
    "\n",
    "bta = 0.8\n",
    "epi = 1e-6\n",
    "lam = 20\n",
    "n = binseq.shape[0]\n",
    "cot = 0\n",
    "\n",
    "obj_0 = obj(y,theta,lam)\n",
    "theta_0 = theta.copy()\n",
    "\n",
    "while(True):\n",
    "    t = 1\n",
    "    G = Gt(theta,t,y)\n",
    "    while (g(theta-t*G,y) > g(theta,y)-t*np.dot(gGrad(theta,y),G)+0.5*t*(np.linalg.norm(G)**2)):\n",
    "        t = bta*t\n",
    "        cot = cot+1\n",
    "    cot = cot+1\n",
    "    prox_dp(n=n, y=theta-t*gGrad(theta,y), lam=lam*t, theta=theta)\n",
    "    obj_1 = obj(y,theta,lam)\n",
    "    \n",
    "    if (obj_0 - obj_1) < epi:\n",
    "         break\n",
    "    \n",
    "    obj_0 = obj_1\n",
    "\n",
    "\n",
    "plt.figure(figsize=(15,9))\n",
    "plt.plot(binseq,'.',label='Binary Data')\n",
    "plt.plot((np.exp(theta)/(1+np.exp(theta))),'.',label='Estimated Probabilities')\n",
    "plt.legend()\n",
    "plt.show()\n",
    "print('Total iterations:',cot)\n",
    "# print(theta)\n",
    "# print(obj_1)\n",
    "\n",
    "\n"
   ]
  },
  {
   "cell_type": "code",
   "execution_count": 5,
   "metadata": {},
   "outputs": [
    {
     "name": "stdout",
     "output_type": "stream",
     "text": [
      "Loss in (5): 983.4964472358754\n",
      "Penalty in (5): 130.84182100678208\n",
      "D is :\n",
      " [[ 1. -1.  0. ...  0.  0.  0.]\n",
      " [ 0.  1. -1. ...  0.  0.  0.]\n",
      " [ 0.  0.  1. ...  0.  0.  0.]\n",
      " ...\n",
      " [ 0.  0.  0. ... -1.  0.  0.]\n",
      " [ 0.  0.  0. ...  1. -1.  0.]\n",
      " [ 0.  0.  0. ...  0.  1. -1.]]\n",
      "Loss in (3): 983.4964472358755\n",
      "Penalty in (3): 130.84182100678208\n"
     ]
    }
   ],
   "source": [
    "# 4.(b)\n",
    "z = 2*y-1\n",
    "\n",
    "#Form in 5\n",
    "print('Loss in (5):',g(theta,y))\n",
    "print('Penalty in (5):',h(theta,lam))\n",
    "\n",
    "#Form in 3\n",
    "\n",
    "Dx = -np.eye(z.shape[0]-1)\n",
    "Dx = np.insert(Dx, 0, 0, axis=1)\n",
    "Dx = np.insert(Dx, z.shape[0]-1, 0, axis=0)\n",
    "\n",
    "D = np.eye(z.shape[0])+Dx\n",
    "D = np.delete(D,z.shape[0]-1,axis=0)\n",
    "print('D is :\\n',D)\n",
    "\n",
    "print('Loss in (3):',gd(theta,z))\n",
    "print('Penalty in (3):',hd(D,theta,lam))"
   ]
  },
  {
   "cell_type": "code",
   "execution_count": 6,
   "metadata": {},
   "outputs": [
    {
     "name": "stdout",
     "output_type": "stream",
     "text": [
      "     pcost       dcost       gap    pres   dres   k/t\n",
      " 0:  4.5019e+00 -1.1798e+05  1e+05  7e-02  6e-16  1e+00\n",
      " 1: -5.7095e+03 -3.1869e+04  3e+04  2e-02  7e-15  4e-01\n",
      " 2: -1.0415e+04 -2.9582e+04  2e+04  1e-02  1e-14  5e-01\n",
      " 3: -1.4644e+04 -2.5820e+04  1e+04  7e-03  2e-14  5e-01\n",
      " 4: -1.6968e+04 -2.3167e+04  6e+03  4e-03  2e-14  3e-01\n",
      " 5: -1.8272e+04 -2.1278e+04  3e+03  2e-03  1e-14  2e-01\n",
      " 6: -1.8923e+04 -2.0331e+04  1e+03  9e-04  1e-14  1e-01\n",
      " 7: -1.9183e+04 -1.9883e+04  7e+02  4e-04  9e-15  7e-02\n",
      " 8: -1.9322e+04 -1.9646e+04  3e+02  2e-04  6e-15  4e-02\n",
      " 9: -1.9392e+04 -1.9508e+04  1e+02  7e-05  4e-14  1e-02\n",
      "10: -1.9420e+04 -1.9446e+04  3e+01  2e-05  1e-13  3e-03\n",
      "11: -1.9424e+04 -1.9431e+04  7e+00  4e-06  4e-13  9e-04\n",
      "12: -1.9425e+04 -1.9427e+04  2e+00  1e-06  4e-13  2e-04\n",
      "13: -1.9425e+04 -1.9426e+04  4e-01  2e-07  5e-13  5e-05\n",
      "14: -1.9425e+04 -1.9425e+04  7e-02  4e-08  6e-13  9e-06\n",
      "15: -1.9425e+04 -1.9425e+04  1e-03  8e-10  7e-13  2e-07\n",
      "Optimal solution found.\n"
     ]
    }
   ],
   "source": [
    "# 4.(c)\n",
    "from cvxopt import matrix, solvers\n",
    "\n",
    "lam = 20\n",
    "delta = 0.01\n",
    "\n",
    "n = z.shape[0]\n",
    "m = D.shape[0]\n",
    "A = (z*D).T\n",
    "A = np.concatenate((A,-A,np.eye(m),-np.eye(m)))\n",
    "b1 = (1-delta)*np.ones(n)\n",
    "b2 = -delta*np.ones(n)\n",
    "b3 = (lam-delta)*np.ones(m)\n",
    "b = np.concatenate((b1,b2,b3,b3))\n",
    "c = np.random.rand(m)\n",
    "\n",
    "A = matrix(A)\n",
    "b = matrix(b)\n",
    "c = matrix(c)\n",
    "\n",
    "sol=solvers.lp(c,A,b)\n",
    "u0 = np.array(sol['x'])\n",
    "u0 = u0.squeeze()"
   ]
  },
  {
   "cell_type": "code",
   "execution_count": 7,
   "metadata": {},
   "outputs": [],
   "source": [
    "def g1(X):\n",
    "    return np.sum(X*np.log(X)+(1-X)*np.log(1-X))\n",
    "\n",
    "def h1(X,u,lam,tau):\n",
    "    return tau*(np.sum(np.log(X)+np.log(1-X))+np.sum(np.log(lam-u)+np.log(u+lam)))\n",
    "\n",
    "def obj1(Dt,u,y,lam,tau):\n",
    "    X = y*Dt.dot(u)\n",
    "    return g1(X)+h1(X,u,lam,tau)\n",
    "    #return h1(Dt,u,y,lam,tau)\n",
    "\n",
    "def g1Grad(X,D,y):\n",
    "    G = np.log(X/(1-X))\n",
    "    return np.asarray(np.sum((D.multiply(G*y)),axis=1)).T.squeeze()\n",
    "   \n",
    "def h1Grad(X,D,u,y,lam,tau):\n",
    "    H1 = np.asarray(np.sum((D.multiply((1/X)*y)-D.multiply((1/(1-X))*y)),axis=1)).T.squeeze()\n",
    "    H2 = -2*u*(1/(lam-u))*(1/(lam+u))\n",
    "    return tau*(H1+H2)\n",
    "\n",
    "def obj1Grad(Dt,D,u,y,lam,tau):\n",
    "    X = y*Dt.dot(u)\n",
    "    return g1Grad(X,D,y)+h1Grad(X,D,u,y,lam,tau)\n",
    "    #return h1Grad(Dt,D,u,y,lam,tau)\n",
    "    \n",
    "    \n",
    "    "
   ]
  },
  {
   "cell_type": "code",
   "execution_count": 9,
   "metadata": {
    "scrolled": true
   },
   "outputs": [
    {
     "name": "stdout",
     "output_type": "stream",
     "text": [
      "Iteration 0 :\n",
      "-141.20905002580682\n"
     ]
    },
    {
     "name": "stderr",
     "output_type": "stream",
     "text": [
      "/home/lrg1213/anaconda3/lib/python3.7/site-packages/ipykernel_launcher.py:2: RuntimeWarning: invalid value encountered in log\n",
      "  \n",
      "/home/lrg1213/anaconda3/lib/python3.7/site-packages/ipykernel_launcher.py:5: RuntimeWarning: invalid value encountered in log\n",
      "  \"\"\"\n"
     ]
    },
    {
     "name": "stdout",
     "output_type": "stream",
     "text": [
      "Iteration 1000 :\n",
      "-444.68853599971\n",
      "Iteration 2000 :\n",
      "-554.5134124909334\n",
      "Iteration 3000 :\n",
      "-627.6056113934565\n",
      "Iteration 4000 :\n",
      "-682.1765886537693\n",
      "Iteration 5000 :\n",
      "-723.5587219530744\n",
      "Iteration 6000 :\n",
      "-754.0299207433806\n",
      "Iteration 7000 :\n",
      "-782.7049182512944\n",
      "Iteration 8000 :\n",
      "-803.100475379164\n",
      "Iteration 9000 :\n",
      "-819.5563306167389\n",
      "Iteration 10000 :\n",
      "-834.4019059086587\n",
      "Iteration 11000 :\n",
      "-849.5860385273197\n",
      "Iteration 12000 :\n",
      "-861.0394689650916\n",
      "Iteration 13000 :\n",
      "-868.8775829451998\n",
      "Iteration 14000 :\n",
      "-881.2769694288879\n",
      "Iteration 15000 :\n",
      "-889.9680013282767\n",
      "Iteration 16000 :\n",
      "-896.9944107394165\n",
      "Iteration 17000 :\n",
      "-912.5382666840534\n",
      "Iteration 18000 :\n",
      "-918.6630880888663\n",
      "Iteration 19000 :\n",
      "-923.254326840759\n",
      "Iteration 20000 :\n",
      "-927.838587492471\n",
      "Iteration 21000 :\n",
      "-933.1413842301139\n",
      "Iteration 22000 :\n",
      "-936.8650827416043\n",
      "Iteration 23000 :\n",
      "-941.2601777856503\n",
      "Iteration 24000 :\n",
      "-944.5924621763567\n",
      "Iteration 25000 :\n",
      "-947.0775213054146\n",
      "Iteration 26000 :\n",
      "-951.7260326798878\n",
      "Iteration 27000 :\n",
      "-956.0235354784572\n",
      "Iteration 28000 :\n",
      "-962.8590231141332\n",
      "Iteration 29000 :\n",
      "-973.0790046944123\n",
      "Iteration 30000 :\n",
      "-984.3994685253698\n",
      "Iteration 31000 :\n",
      "-991.7978434353993\n",
      "Iteration 32000 :\n",
      "-992.3494601904536\n",
      "Iteration 33000 :\n",
      "-992.6164544713192\n",
      "Iteration 34000 :\n",
      "-992.8805475052046\n",
      "Iteration 35000 :\n",
      "-993.1417984203906\n",
      "Iteration 36000 :\n",
      "-993.4002646619892\n",
      "Iteration 37000 :\n",
      "-993.6956520554533\n",
      "Iteration 38000 :\n",
      "-993.93414031998\n",
      "Iteration 39000 :\n",
      "-994.1702976451433\n",
      "Iteration 40000 :\n",
      "-994.4041666017487\n",
      "Iteration 41000 :\n",
      "-994.6357885777687\n",
      "Iteration 42000 :\n",
      "-994.8652038254087\n",
      "Iteration 43000 :\n",
      "-995.0924515022111\n",
      "Iteration 44000 :\n",
      "-995.3175697102031\n",
      "Iteration 45000 :\n",
      "-995.5405955332469\n",
      "Iteration 46000 :\n",
      "-995.7615650727313\n",
      "Iteration 47000 :\n",
      "-995.980513481723\n",
      "Iteration 48000 :\n",
      "-996.1974749976888\n",
      "Iteration 49000 :\n",
      "-996.4124829738837\n",
      "541.1164720058441\n"
     ]
    }
   ],
   "source": [
    "# 4.(d)\n",
    "\n",
    "from time import time\n",
    "from scipy.sparse import dia_matrix\n",
    "Ds = dia_matrix(D)\n",
    "Dts = dia_matrix(D.T)\n",
    "\n",
    "lam = 20\n",
    "tau = -1e-3\n",
    "bta = 0.8\n",
    "kMax = 50000\n",
    "epi = 1e-6\n",
    "alpha = 0.5\n",
    "u = u0.copy()\n",
    "obj_0 = obj1(Dts,u,z,lam,tau)\n",
    "\n",
    "start = time()\n",
    "for k in range(kMax):\n",
    "    t = 1\n",
    "    if (k%1000==0):\n",
    "        print('Iteration',k,':')\n",
    "        print(obj_0)\n",
    "    \n",
    "    grad1 = obj1Grad(Dts,Ds,u,z,lam,tau)\n",
    "    c1 = obj1(Dts,u-t*grad1,z,lam,tau)\n",
    "    while(np.isnan(c1)):\n",
    "        t = bta*t\n",
    "        c1 = obj1(Dts,u-t*grad1,z,lam,tau)\n",
    "    c2 = obj1(Dts,u,z,lam,tau)\n",
    "    c3 = np.linalg.norm(grad1)**2\n",
    "    while(c1>c2-alpha*t*c3):\n",
    "        t = bta*t\n",
    "        c1 = obj1(Dts,u-t*grad1,z,lam,tau)\n",
    "        \n",
    "    u = u-t*grad1\n",
    "    obj_1 = c1\n",
    "    if(obj_0-obj_1<epi):\n",
    "        break\n",
    "    obj_0 = obj_1\n",
    "\n",
    "stop = time()\n",
    "print(stop-start)"
   ]
  },
  {
   "cell_type": "code",
   "execution_count": 23,
   "metadata": {},
   "outputs": [
    {
     "data": {
      "image/png": "[encoded data removed]",
      "text/plain": [
       "<Figure size 1080x648 with 1 Axes>"
      ]
     },
     "metadata": {
      "needs_background": "light"
     },
     "output_type": "display_data"
    },
    {
     "name": "stdout",
     "output_type": "stream",
     "text": [
      "Estimated probabilites are closed to those in part(b). \n",
      "Primal Value: 1530.7335711767485\n",
      "Primal Value in (b): 1114.3382682426577\n",
      "Primal Value in (b) is lower.\n"
     ]
    }
   ],
   "source": [
    "# 4.(d)\n",
    "X = Dts.dot(np.load('u_5e4.npy'))\n",
    "beta = -z*np.log(X/(z-X))\n",
    "plt.figure(figsize=(15,9))\n",
    "plt.plot(binseq,'.',label='Binary Data')\n",
    "plt.plot((np.exp(theta)/(1+np.exp(theta))),'.',label='Primal Solution')\n",
    "plt.plot((np.exp(beta)/(1+np.exp(beta))),'.',label='Dual Solution')\n",
    "plt.legend(loc='upper right')\n",
    "plt.show()\n",
    "print('Estimated probabilites are closed to those in part(b). ')\n",
    "print('Primal Value:',np.sum(np.log(1+np.exp(-z*beta)))+lam*np.linalg.norm(Ds.dot(beta),1))\n",
    "print('Primal Value in (b):',gd(theta,z)+hd(D,theta,lam))\n",
    "print('Primal Value in (b) is lower.')"
   ]
  },
  {
   "cell_type": "code",
   "execution_count": 22,
   "metadata": {},
   "outputs": [
    {
     "data": {
      "image/png": "[encoded data removed]",
      "text/plain": [
       "<Figure size 1080x648 with 1 Axes>"
      ]
     },
     "metadata": {
      "needs_background": "light"
     },
     "output_type": "display_data"
    },
    {
     "name": "stdout",
     "output_type": "stream",
     "text": [
      "Estimated probabilites are closed to those in part(b). \n",
      "Primal Value: 1166.8588413172188\n",
      "Primal Value in (b): 1114.3382682426577\n",
      "Primal Value in (b) is lower.\n"
     ]
    }
   ],
   "source": [
    "#After so many iterations..... (about 500000)\n",
    "X = Dts.dot(np.load('u_new3.npy'))\n",
    "beta = -z*np.log(X/(z-X))\n",
    "plt.figure(figsize=(15,9))\n",
    "plt.plot(binseq,'.',label='Binary Data')\n",
    "plt.plot((np.exp(theta)/(1+np.exp(theta))),'.',label='Primal Solution')\n",
    "plt.plot((np.exp(beta)/(1+np.exp(beta))),'.',label='Dual Solution')\n",
    "plt.legend(loc='upper right')\n",
    "plt.show()\n",
    "print('Estimated probabilites are closed to those in part(b). ')\n",
    "print('Primal Value:',np.sum(np.log(1+np.exp(-z*beta)))+lam*np.linalg.norm(Ds.dot(beta),1))\n",
    "print('Primal Value in (b):',gd(theta,z)+hd(D,theta,lam))\n",
    "print('Primal Value in (b) is lower.')"
   ]
  },
  {
   "cell_type": "code",
   "execution_count": null,
   "metadata": {},
   "outputs": [],
   "source": []
  }
 ],
 "metadata": {
  "kernelspec": {
   "display_name": "Python 3",
   "language": "python",
   "name": "python3"
  },
  "language_info": {
   "codemirror_mode": {
    "name": "ipython",
    "version": 3
   },
   "file_extension": ".py",
   "mimetype": "text/x-python",
   "name": "python",
   "nbconvert_exporter": "python",
   "pygments_lexer": "ipython3",
   "version": "3.7.3"
  },
  "latex_envs": {
   "LaTeX_envs_menu_present": true,
   "autoclose": false,
   "autocomplete": true,
   "bibliofile": "biblio.bib",
   "cite_by": "apalike",
   "current_citInitial": 1,
   "eqLabelWithNumbers": true,
   "eqNumInitial": 1,
   "hotkeys": {
    "equation": "Ctrl-E",
    "itemize": "Ctrl-I"
   },
   "labels_anchors": false,
   "latex_user_defs": false,
   "report_style_numbering": false,
   "user_envs_cfg": false
  }
 },
 "nbformat": 4,
 "nbformat_minor": 2
}
